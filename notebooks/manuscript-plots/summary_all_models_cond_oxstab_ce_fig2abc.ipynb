{
 "cells": [
  {
   "attachments": {},
   "cell_type": "markdown",
   "metadata": {},
   "source": [
    "## Notebook for plotting bar chart for both SL (LGBM/PLSR) & Chemprop models"
   ]
  },
  {
   "attachments": {},
   "cell_type": "markdown",
   "metadata": {},
   "source": [
    "**Created on 29th January, 2023; modified on 22nd February, 2024; re-remodified on 4th February, 2025**"
   ]
  },
  {
   "cell_type": "code",
   "execution_count": 1,
   "metadata": {},
   "outputs": [],
   "source": [
    "import pandas as pd\n",
    "import numpy as np\n",
    "import matplotlib.pyplot as plt\n",
    "import matplotlib.font_manager as fm ## this is required to render text-editable plots from matplotlib\n",
    "plt.rc('font', family='arial')\n",
    "import matplotlib\n",
    "import seaborn as sns\n",
    "import os, sys\n",
    "from sklearn.metrics import mean_squared_error, mean_absolute_error, r2_score\n",
    "from rdkit.Chem import AllChem, DataStructs, PandasTools\n",
    "from rdkit import Chem"
   ]
  },
  {
   "cell_type": "code",
   "execution_count": 2,
   "metadata": {},
   "outputs": [
    {
     "name": "stdout",
     "output_type": "stream",
     "text": [
      "/Users/riteshk/Library/CloudStorage/Box-Box/Research-postdoc/liquid-electrolyte-ML/Chem-Mater-R1/manuscript-plots\n",
      "total 28736\n",
      "-rw-r--r--@ 1 riteshk  staff    52049 Jan 22 15:03 plot_cond_expt_valid_ml_fig5b_012225.eps\n",
      "-rw-r--r--  1 riteshk  staff      208 Jan 22 15:03 act_energy_expt_valid_ml_fig5b_012225.csv\n",
      "-rw-------@ 1 riteshk  staff   844288 Jan 29 08:14 emol_expt_measured_022324_.xls\n",
      "-rw-r--r--@ 1 riteshk  staff    19694 Jan 29 08:16 plot_oxstab_expt-ml-dft_fig_5c_012925.eps\n",
      "-rw-r--r--@ 1 riteshk  staff    19540 Jan 29 08:20 plot_ce_expt-ml_fig5d_012925.eps\n",
      "-rw-r--r--@ 1 riteshk  staff   169633 Jan 29 09:26 plot_fig5bcd.ai\n",
      "-rw-r--r--@ 1 riteshk  staff   819279 Jan 29 09:26 plot_fig5bcd.jpg\n",
      "-rw-r--r--  1 riteshk  staff     3688 Jan 29 14:50 preds_expt_chemprop_strat_expt_error.csv\n",
      "-rw-r--r--@ 1 riteshk  staff    20494 Jan 31 14:40 plot_ce_expt-ml_fig5d_013125.eps\n",
      "-rw-------@ 1 riteshk  staff    53858 Jan 31 14:40 compare-ml-expt_ce_fig5c.ipynb\n",
      "-rw-r--r--@ 1 riteshk  staff    50709 Jan 31 16:00 plot_cond_expt_valid_ml_fig5b_013125.eps\n",
      "-rw-------@ 1 riteshk  staff   455814 Feb  1 01:06 compare-ml-expt_cond_fig5b.ipynb\n",
      "-rw-------@ 1 riteshk  staff  1033481 Feb  1 20:47 unique_solvent_databases_fgrp_class.csv\n",
      "-rw-------@ 1 riteshk  staff   147232 Feb  1 20:47 X_tsne_trial_4.npy\n",
      "-rw-------@ 1 riteshk  staff   294336 Feb  1 20:48 X_tsne_trial_4_openTSNE.npy\n",
      "-rw-r--r--@ 1 riteshk  staff   102995 Feb  2 10:36 plot_tsne_fig1d_zoom_.eps\n"
     ]
    },
    {
     "name": "stdout",
     "output_type": "stream",
     "text": [
      "-rw-r--r--@ 1 riteshk  staff    33869 Feb  2 10:37 plot_tsne_fig1d_zoom.eps\n",
      "-rw-r--r--@ 1 riteshk  staff  9000206 Feb  2 10:37 plot_tsne_fig1d.tiff\n",
      "-rw-------@ 1 riteshk  staff   714053 Feb  2 10:37 tsne_plot_fig1d.ipynb\n",
      "-rw-r--r--@ 1 riteshk  staff     1397 Feb  2 15:09 emol_expt_measured_022324_.csv\n",
      "-rw-r--r--@ 1 riteshk  staff    19606 Feb  2 15:17 plot_oxstab_expt-ml-dft_fig_5c_020225.eps\n",
      "-rw-------@ 1 riteshk  staff    47226 Feb  2 15:17 compare-ml-dft-expt_oxstab_fig5c.ipynb\n",
      "-rw-r--r--@ 1 riteshk  staff    22500 Feb  3 14:37 plot_bar_molecule_distribution_fig1e.eps\n",
      "-rw-r--r--@ 1 riteshk  staff    57534 Feb  3 14:37 bar_plot_fig1e.ipynb\n",
      "-rw-r--r--@ 1 riteshk  staff    28445 Feb  5 10:47 plot_bar_ml_perf_comparison_cond_02052025.eps\n",
      "-rw-r--r--@ 1 riteshk  staff    27138 Feb  5 10:48 plot_bar_ml_perf_comparison_oxstab_02052025.eps\n",
      "-rw-------@ 1 riteshk  staff    45042 Feb  5 10:48 summary_all_models_oxstab.ipynb\n",
      "-rw-r--r--@ 1 riteshk  staff    28285 Feb  5 10:49 plot_bar_ml_perf_comparison_ce_02052025.eps\n",
      "-rw-r--r--@ 1 riteshk  staff    19142 Feb  5 11:56 plot_bar_ml_perf_comparison_cond_02052025.pdf\n",
      "-rw-r--r--@ 1 riteshk  staff   214434 Feb  5 12:12 ce_plsr_strat2.ipynb\n",
      "-rw-------@ 1 riteshk  staff   108405 Feb  5 14:18 parity_plot_fig2def.ipynb\n",
      "-rw-------@ 1 riteshk  staff    74120 Feb  5 14:19 summary_all_models_cond.ipynb\n",
      "-rw-------@ 1 riteshk  staff    48077 Feb  5 14:33 summary_all_models_ce.ipynb\n",
      "-rw-------@ 1 riteshk  staff    64636 Feb  5 14:34 summary_all_models_cond_oxstab_ce_fig2abc.ipynb\n"
     ]
    }
   ],
   "source": [
    "%%bash\n",
    "pwd\n",
    "ls -ltr"
   ]
  },
  {
   "cell_type": "markdown",
   "metadata": {},
   "source": [
    "### Property: Ionic conductivity"
   ]
  },
  {
   "cell_type": "markdown",
   "metadata": {},
   "source": [
    "#### Check performance for Chemprop models"
   ]
  },
  {
   "cell_type": "code",
   "execution_count": 34,
   "metadata": {},
   "outputs": [],
   "source": [
    "def calc_error(df_true, df_pred):\n",
    "    y_true = df_true['conductivity_log']\n",
    "    y_pred = df_pred['conductivity_log']\n",
    "    return np.sqrt(mean_squared_error(y_true, y_pred)), mean_absolute_error(y_true, y_pred), r2_score(y_true, y_pred)"
   ]
  },
  {
   "cell_type": "code",
   "execution_count": 35,
   "metadata": {},
   "outputs": [],
   "source": [
    "path = '../conductivity/'\n",
    "# path_ = '../ionic-conductivity_2.1/'"
   ]
  },
  {
   "cell_type": "code",
   "execution_count": 5,
   "metadata": {},
   "outputs": [
    {
     "name": "stdout",
     "output_type": "stream",
     "text": [
      "\u001b[34mcluster-split-1\u001b[m\u001b[m/  \u001b[34mlgbm\u001b[m\u001b[m/             \u001b[34mstratified-split\u001b[m\u001b[m/\n",
      "\u001b[34mcluster-split-2\u001b[m\u001b[m/  \u001b[34mrandom-split\u001b[m\u001b[m/\n"
     ]
    }
   ],
   "source": [
    "!ls ../conductivity/"
   ]
  },
  {
   "cell_type": "code",
   "execution_count": 36,
   "metadata": {},
   "outputs": [],
   "source": [
    "df_true_train_rand = pd.read_csv(path + 'random-split/train_multi_comp_comb_comm.csv')\n",
    "df_true_val_rand = pd.read_csv(path + 'random-split/val_multi_comp_comb_comm.csv')\n",
    "df_true_test_rand = pd.read_csv(path + 'random-split/test_multi_comp_comb_comm.csv')\n",
    "df_pred_train_rand = pd.read_csv(path + 'random-split/deploy/edb/preds_train_rand_comm_s800_e3.csv')\n",
    "df_pred_val_rand = pd.read_csv(path + 'random-split/deploy/edb/preds_val_rand_comm_s800_e3.csv')\n",
    "df_pred_test_rand = pd.read_csv(path + 'random-split/deploy/edb/preds_test_rand_comm_s800_e3.csv')"
   ]
  },
  {
   "cell_type": "code",
   "execution_count": 37,
   "metadata": {},
   "outputs": [],
   "source": [
    "rmse_train_rand, mae_train_rand, r2_train_rand = calc_error(df_true_train_rand, df_pred_train_rand)\n",
    "rmse_val_rand, mae_val_rand, r2_val_rand = calc_error(df_true_val_rand, df_pred_val_rand)\n",
    "rmse_test_rand, mae_test_rand, r2_test_rand = calc_error(df_true_test_rand, df_pred_test_rand)"
   ]
  },
  {
   "cell_type": "code",
   "execution_count": 38,
   "metadata": {},
   "outputs": [],
   "source": [
    "df_true_train_clus1 = pd.read_csv(path + 'cluster-split-1/train_multi_comp_comb_comm.csv')\n",
    "df_true_val_clus1 = pd.read_csv(path + 'cluster-split-1/val_multi_comp_comb_comm.csv')\n",
    "df_true_test_clus1 = pd.read_csv(path + 'cluster-split-1/test_multi_comp_comb_comm.csv')\n",
    "df_pred_train_clus1 = pd.read_csv(path + 'cluster-split-1/deploy/edb/preds_train_clus1_comm_s800_e3.csv')\n",
    "df_pred_val_clus1 = pd.read_csv(path + 'cluster-split-1/deploy/edb/preds_val_clus1_comm_s800_e3.csv')\n",
    "df_pred_test_clus1 = pd.read_csv(path + 'cluster-split-1/deploy/edb/preds_test_clus1_comm_s800_e3.csv')"
   ]
  },
  {
   "cell_type": "code",
   "execution_count": 39,
   "metadata": {},
   "outputs": [],
   "source": [
    "rmse_train_clus1, mae_train_clus1, r2_train_clus1 = calc_error(df_true_train_clus1, df_pred_train_clus1)\n",
    "rmse_val_clus1, mae_val_clus1, r2_val_clus1 = calc_error(df_true_val_clus1, df_pred_val_clus1)\n",
    "rmse_test_clus1, mae_test_clus1, r2_test_clus1 = calc_error(df_true_test_clus1, df_pred_test_clus1)"
   ]
  },
  {
   "cell_type": "code",
   "execution_count": 40,
   "metadata": {},
   "outputs": [],
   "source": [
    "df_true_train_clus2 = pd.read_csv(path + 'cluster-split-2/train_multi_comp_comb_comm.csv')\n",
    "df_true_val_clus2 = pd.read_csv(path + 'cluster-split-2/val_multi_comp_comb_comm.csv')\n",
    "df_true_test_clus2 = pd.read_csv(path + 'cluster-split-2/test_multi_comp_comb_comm.csv')\n",
    "df_pred_train_clus2 = pd.read_csv(path + 'cluster-split-2/deploy/edb/preds_train_clus2_comm_s800_e3.csv')\n",
    "df_pred_val_clus2 = pd.read_csv(path + 'cluster-split-2/deploy/edb/preds_val_clus2_comm_s800_e3.csv')\n",
    "df_pred_test_clus2 = pd.read_csv(path + 'cluster-split-2/deploy/edb/preds_test_clus2_comm_s800_e3.csv')"
   ]
  },
  {
   "cell_type": "code",
   "execution_count": 41,
   "metadata": {},
   "outputs": [],
   "source": [
    "rmse_train_clus2, mae_train_clus2, r2_train_clus2 = calc_error(df_true_train_clus2, df_pred_train_clus2)\n",
    "rmse_val_clus2, mae_val_clus2, r2_val_clus2 = calc_error(df_true_val_clus2, df_pred_val_clus2)\n",
    "rmse_test_clus2, mae_test_clus2, r2_test_clus2 = calc_error(df_true_test_clus2, df_pred_test_clus2)"
   ]
  },
  {
   "cell_type": "code",
   "execution_count": 42,
   "metadata": {},
   "outputs": [],
   "source": [
    "df_true_train_strat2 = pd.read_csv(path + 'stratified-split/train_strat_comm.csv')\n",
    "df_true_val_strat2 = pd.read_csv(path + 'stratified-split/val_strat_comm.csv')\n",
    "df_true_test_strat2 = pd.read_csv(path + 'stratified-split/test_strat_comm.csv')\n",
    "df_pred_train_strat2 = pd.read_csv(path + 'stratified-split/deploy/edb/preds_train_comm_strat2_rd_cdf_s800_e3.csv')\n",
    "df_pred_val_strat2 = pd.read_csv(path + 'stratified-split/deploy/edb/preds_val_comm_strat2_rd_cdf_s800_e3.csv')\n",
    "df_pred_test_strat2 = pd.read_csv(path + 'stratified-split/deploy/edb/preds_test_comm_strat2_rd_cdf_s800_e3.csv')"
   ]
  },
  {
   "cell_type": "code",
   "execution_count": 43,
   "metadata": {},
   "outputs": [],
   "source": [
    "rmse_train_strat2, mae_train_strat2, r2_train_strat2 = calc_error(df_true_train_strat2, df_pred_train_strat2)\n",
    "rmse_val_strat2, mae_val_strat2, r2_val_strat2 = calc_error(df_true_val_strat2, df_pred_val_strat2)\n",
    "rmse_test_strat2, mae_test_strat2, r2_test_strat2 = calc_error(df_true_test_strat2, df_pred_test_strat2)"
   ]
  },
  {
   "cell_type": "code",
   "execution_count": 44,
   "metadata": {},
   "outputs": [],
   "source": [
    "## RMSE list -- final list on 02-28-24\n",
    "lgbm = [[0.148,0.153,0.142,0.150], [0.206,0.220,0.483,0.370], [0.217,0.186,0.788,0.317]] ## [random, strat, clus-I, clus-II] & [train,val,test]\n",
    "chem = [[rmse_train_rand, rmse_train_strat2, rmse_train_clus1, rmse_train_clus2], [rmse_val_rand, rmse_val_strat2, rmse_val_clus1, rmse_val_clus2], [rmse_test_rand, rmse_test_strat2, rmse_test_clus1, rmse_test_clus2]] ## [random, strat, clus-I, clus-II] & [train,val,test]"
   ]
  },
  {
   "cell_type": "code",
   "execution_count": 45,
   "metadata": {},
   "outputs": [
    {
     "data": {
      "text/plain": [
       "array([[0.13271232, 0.13723818, 0.2018942 , 0.1593743 ],\n",
       "       [0.18568601, 0.20156403, 0.52476105, 0.24842563],\n",
       "       [0.17809691, 0.18392903, 0.99450753, 0.31365768]])"
      ]
     },
     "execution_count": 45,
     "metadata": {},
     "output_type": "execute_result"
    }
   ],
   "source": [
    "np.array(chem).T[0]\n",
    "lgm = np.array(lgbm)\n",
    "chem = np.array(chem)\n",
    "chem"
   ]
  },
  {
   "cell_type": "code",
   "execution_count": 17,
   "metadata": {},
   "outputs": [
    {
     "data": {
      "text/plain": [
       "[0.148, 0.153, 0.142, 0.15]"
      ]
     },
     "execution_count": 17,
     "metadata": {},
     "output_type": "execute_result"
    }
   ],
   "source": [
    "lgbm[0]"
   ]
  },
  {
   "cell_type": "code",
   "execution_count": 46,
   "metadata": {},
   "outputs": [
    {
     "data": {
      "text/plain": [
       "(0.08669512896103783, 0.1839290282584005, 0.9392809311641164)"
      ]
     },
     "execution_count": 46,
     "metadata": {},
     "output_type": "execute_result"
    }
   ],
   "source": [
    "mae_train_rand, mae_train_clus1, mae_train_clus2\n",
    "rmse_test_rand, rmse_test_clus1, rmse_test_clus2, rmse_test_strat2\n",
    "mae_test_strat2, rmse_test_strat2, r2_test_strat2"
   ]
  },
  {
   "cell_type": "code",
   "execution_count": 25,
   "metadata": {},
   "outputs": [],
   "source": [
    "# orange = (0.984, 0.713, 0.305)\n",
    "# anvil = (0.298, 0.78, 0.77)\n",
    "# grey = (0.463,0.463,0.463)\n",
    "blue = (0, 0.576, 0.902) # 0, 147, 230\n",
    "green = (0.349,0.745,0.306) # 89, 190, 78\n",
    "red = (0.984, 0.262, 0.219) # 251, 67, 56 \n",
    "orange = (0.984, 0.713, 0.305) # 251, 182, 78 \n",
    "purple = (0.839, 0.286, 0.604) # 214, 73, 1541\n",
    "anvil = (0.298, 0.78, 0.77) # 76, 199, 196\n",
    "dark_purple = (0.557, 0, 0.998) # 142, 0, 252\n",
    "pink = (0.95, 0.78, 0.996) # 242, 199, 154\n",
    "gray = (0.463,0.463,0.463) # 118, 118, 118"
   ]
  },
  {
   "cell_type": "code",
   "execution_count": 37,
   "metadata": {},
   "outputs": [],
   "source": [
    "matplotlib.use('cairo')\n",
    "# matplotlib.use('Qt5Agg')\n",
    "font = fm.FontProperties(family = 'arial')"
   ]
  },
  {
   "cell_type": "markdown",
   "metadata": {},
   "source": [
    "#### Side-by-side bar plot: on recommendation of reviewer-3 (Chem-Mater-R1)"
   ]
  },
  {
   "cell_type": "code",
   "execution_count": 36,
   "metadata": {},
   "outputs": [
    {
     "data": {
      "image/png": "[encoded data removed]",
      "text/plain": [
       "<Figure size 500x500 with 1 Axes>"
      ]
     },
     "metadata": {},
     "output_type": "display_data"
    }
   ],
   "source": [
    "# Create a figure and a set of subplots\n",
    "fig, ax = plt.subplots(figsize=(5, 5))\n",
    "\n",
    "# Set the bar width\n",
    "bar_width = 0.13\n",
    "\n",
    "# Set the opacity\n",
    "opacity = 1.0\n",
    "\n",
    "# Set x positions for each group of bars\n",
    "x = np.arange(4)\n",
    "\n",
    "# Plot bars side by side\n",
    "rects1 = ax.bar(x - bar_width, lgbm[0], bar_width, alpha=opacity, color=blue, edgecolor=blue, label='LGBM Train')\n",
    "rects1_ = ax.bar(x, lgbm[1], bar_width, alpha=opacity, color=anvil, edgecolor=anvil, label='LGBM Val')\n",
    "rects__ = ax.bar(x + bar_width, lgbm[2], bar_width, alpha=opacity, color=orange, edgecolor=orange, label='LGBM Test')\n",
    "\n",
    "# Plot hatched bars\n",
    "rects2 = ax.bar(x + 2*bar_width, chem[0], bar_width, alpha=opacity, edgecolor=blue, fill=False, hatch='//', label='Chem Train')\n",
    "rects2_ = ax.bar(x + 3*bar_width, chem[1], bar_width, alpha=opacity, edgecolor=anvil, fill=False, hatch='//', label='Chem Val')\n",
    "rects2__ = ax.bar(x + 4*bar_width, chem[2], bar_width, alpha=opacity, edgecolor=orange, fill=False, hatch='//', label='Chem Test')\n",
    "\n",
    "# Add some text for labels, title and custom x-axis tick labels, etc.\n",
    "ax.set_xlabel('Features')\n",
    "ax.set_ylabel('RMSE')\n",
    "ax.set_yticks([0.0, 0.4, 0.8, 1.2, 1.6])\n",
    "ax.set_yticklabels([0.0, 0.4, 0.8, 1.2, 1.6])\n",
    "splits = ['random', 'strat', 'clus-I', 'clus-II']\n",
    "ax.set_xticks(x + 1.5*bar_width)\n",
    "ax.set_xticklabels(splits)\n",
    "ax.legend(frameon=False)\n",
    "\n",
    "# Show the plot\n",
    "# plt.tight_layout()\n",
    "plt.savefig('plot_bar_ml_perf_comparison_cond_02052025.eps', dpi=300)"
   ]
  },
  {
   "cell_type": "code",
   "execution_count": 39,
   "metadata": {},
   "outputs": [],
   "source": [
    "# Create a figure and a set of subplots\n",
    "fig, ax = plt.subplots(figsize=(5, 5))\n",
    "\n",
    "# Set the bar width\n",
    "bar_width = 0.13\n",
    "\n",
    "# Set the opacity\n",
    "opacity = 1.0\n",
    "\n",
    "# Set x positions for each group of bars\n",
    "x = np.arange(4)\n",
    "\n",
    "# Plot bars side by side\n",
    "rects1 = ax.bar(x - bar_width, lgbm[0], bar_width, alpha=opacity, color=blue, edgecolor=blue, label='LGBM Train')\n",
    "rects1_ = ax.bar(x, lgbm[1], bar_width, alpha=opacity, color=anvil, edgecolor=anvil, label='LGBM Val')\n",
    "rects__ = ax.bar(x + bar_width, lgbm[2], bar_width, alpha=opacity, color=orange, edgecolor=orange, label='LGBM Test')\n",
    "\n",
    "# Plot hatched bars\n",
    "rects2 = ax.bar(x + 2*bar_width, chem[0], bar_width, alpha=opacity, edgecolor=blue, fill=False, hatch='//', label='Chem Train')\n",
    "rects2_ = ax.bar(x + 3*bar_width, chem[1], bar_width, alpha=opacity, edgecolor=anvil, fill=False, hatch='//', label='Chem Val')\n",
    "rects2__ = ax.bar(x + 4*bar_width, chem[2], bar_width, alpha=opacity, edgecolor=orange, fill=False, hatch='//', label='Chem Test')\n",
    "\n",
    "# Add some text for labels, title and custom x-axis tick labels, etc.\n",
    "ax.set_xlabel('Features')\n",
    "ax.set_ylabel('RMSE')\n",
    "ax.set_yticks([0.0, 0.4, 0.8, 1.2, 1.6])\n",
    "ax.set_yticklabels([0.0, 0.4, 0.8, 1.2, 1.6])\n",
    "splits = ['random', 'strat', 'clus-I', 'clus-II']\n",
    "ax.set_xticks(x + 1.5*bar_width)\n",
    "ax.set_xticklabels(splits)\n",
    "ax.legend(frameon=False)\n",
    "plt.savefig('plot_bar_ml_perf_comparison_cond_02052025.pdf', dpi=300)"
   ]
  },
  {
   "cell_type": "markdown",
   "metadata": {},
   "source": [
    "### Property: Oxidative stability"
   ]
  },
  {
   "cell_type": "markdown",
   "metadata": {},
   "source": [
    "#### Check performance for Chemprop models"
   ]
  },
  {
   "cell_type": "code",
   "execution_count": 47,
   "metadata": {},
   "outputs": [],
   "source": [
    "def calc_error(df_true, df_pred):\n",
    "    y_true = df_true['IE']\n",
    "    y_pred = df_pred['IE']\n",
    "    return np.sqrt(mean_squared_error(y_true, y_pred)), mean_absolute_error(y_true, y_pred), r2_score(y_true, y_pred)"
   ]
  },
  {
   "cell_type": "code",
   "execution_count": 48,
   "metadata": {},
   "outputs": [],
   "source": [
    "path = '../oxstab/'"
   ]
  },
  {
   "cell_type": "code",
   "execution_count": 49,
   "metadata": {},
   "outputs": [],
   "source": [
    "df_true_train_rand = pd.read_csv(path + 'random-split/train_random.csv')\n",
    "df_true_val_rand = pd.read_csv(path + 'random-split/val_random.csv')\n",
    "df_true_test_rand = pd.read_csv(path + 'random-split/test_random.csv')\n",
    "df_pred_train_rand = pd.read_csv(path + 'random-split/deploy/mp/preds_oxstab_train_rand_rd_e3_s400.csv')\n",
    "df_pred_val_rand = pd.read_csv(path + 'random-split/deploy/mp/preds_oxstab_val_rand_e3_s400.csv')\n",
    "df_pred_test_rand = pd.read_csv(path + 'random-split/deploy/mp/preds_oxstab_test_rand_e3_s400.csv')"
   ]
  },
  {
   "cell_type": "code",
   "execution_count": 50,
   "metadata": {},
   "outputs": [],
   "source": [
    "rmse_train_rand, mae_train_rand, r2_train_rand = calc_error(df_true_train_rand, df_pred_train_rand)\n",
    "rmse_val_rand, mae_val_rand, r2_val_rand = calc_error(df_true_val_rand, df_pred_val_rand)\n",
    "rmse_test_rand, mae_test_rand, r2_test_rand = calc_error(df_true_test_rand, df_pred_test_rand)"
   ]
  },
  {
   "cell_type": "code",
   "execution_count": 8,
   "metadata": {},
   "outputs": [],
   "source": [
    "df_true_train_scaff = pd.read_csv(path + 'scaffold-split/train_scaffold.csv')\n",
    "df_true_val_scaff = pd.read_csv(path + 'scaffold-split/val_scaffold.csv')\n",
    "df_true_test_scaff = pd.read_csv(path + 'scaffold-split/test_scaffold.csv')\n",
    "df_pred_train_scaff = pd.read_csv(path + 'scaffold-split/deploy/mp/preds_oxstab_train_scaff_rd_e3_s400.csv')\n",
    "df_pred_val_scaff = pd.read_csv(path + 'scaffold-split/deploy/mp/preds_oxstab_val_scaff_e3_s400.csv')\n",
    "df_pred_test_scaff = pd.read_csv(path + 'scaffold-split/deploy/mp/preds_oxstab_test_scaff_e3_s400.csv')"
   ]
  },
  {
   "cell_type": "code",
   "execution_count": 9,
   "metadata": {},
   "outputs": [],
   "source": [
    "rmse_train_scaff, mae_train_scaff, r2_train_scaff = calc_error(df_true_train_scaff, df_pred_train_scaff)\n",
    "rmse_val_scaff, mae_val_scaff, r2_val_scaff = calc_error(df_true_val_scaff, df_pred_val_scaff)\n",
    "rmse_test_scaff, mae_test_scaff, r2_test_scaff = calc_error(df_true_test_scaff, df_pred_test_scaff)"
   ]
  },
  {
   "cell_type": "code",
   "execution_count": 10,
   "metadata": {},
   "outputs": [],
   "source": [
    "df_true_train_strat2 = pd.read_csv(path + 'stratified-split/train_strat.csv')\n",
    "df_true_val_strat2 = pd.read_csv(path + 'stratified-split/val_strat.csv')\n",
    "df_true_test_strat2 = pd.read_csv(path + 'stratified-split/test_strat.csv')\n",
    "df_pred_train_strat2 = pd.read_csv(path + 'stratified-split/deploy/mp/preds_train_strat2_e3_s400.csv')\n",
    "df_pred_val_strat2 = pd.read_csv(path + 'stratified-split/deploy/mp/preds_val_strat2_e3_s400.csv')\n",
    "df_pred_test_strat2 = pd.read_csv(path + 'stratified-split/deploy/mp/preds_test_strat2_e3_s400.csv')"
   ]
  },
  {
   "cell_type": "code",
   "execution_count": 11,
   "metadata": {},
   "outputs": [],
   "source": [
    "rmse_train_strat2, mae_train_strat2, r2_train_strat2 = calc_error(df_true_train_strat2, df_pred_train_strat2)\n",
    "rmse_val_strat2, mae_val_strat2, r2_val_strat2 = calc_error(df_true_val_strat2, df_pred_val_strat2)\n",
    "rmse_test_strat2, mae_test_strat2, r2_test_strat2 = calc_error(df_true_test_strat2, df_pred_test_strat2)"
   ]
  },
  {
   "cell_type": "code",
   "execution_count": 14,
   "metadata": {},
   "outputs": [],
   "source": [
    "## RMSE list -- final lgbm list on 02-28-24\n",
    "lgbm = [[0.260,0.262,0.250], [0.337,0.375,0.798], [0.343,0.356,0.766]] ## [random, strat, scaff] & [train,val,test]\n",
    "chem = [[rmse_train_rand, rmse_train_strat2, rmse_train_scaff], [rmse_val_rand, rmse_val_strat2, rmse_val_scaff], [rmse_test_rand, rmse_test_strat2, rmse_test_scaff]] ## [random, strat, scaff] & [train,val,test]"
   ]
  },
  {
   "cell_type": "code",
   "execution_count": 15,
   "metadata": {},
   "outputs": [
    {
     "data": {
      "text/plain": [
       "array([[0.08714401, 0.09680132, 0.08874919],\n",
       "       [0.19308516, 0.19276747, 0.43631198],\n",
       "       [0.20288615, 0.23273981, 0.42067502]])"
      ]
     },
     "execution_count": 15,
     "metadata": {},
     "output_type": "execute_result"
    }
   ],
   "source": [
    "lgbm = np.array(lgbm)\n",
    "chem = np.array(chem)\n",
    "chem"
   ]
  },
  {
   "cell_type": "code",
   "execution_count": 51,
   "metadata": {},
   "outputs": [
    {
     "data": {
      "text/plain": [
       "(0.10841212076264142, 0.20288614817961653, 0.9699053424307936)"
      ]
     },
     "execution_count": 51,
     "metadata": {},
     "output_type": "execute_result"
    }
   ],
   "source": [
    "mae_test_rand, rmse_test_rand, r2_test_rand"
   ]
  },
  {
   "cell_type": "markdown",
   "metadata": {},
   "source": [
    "#### Side-by-side bar plot: on recommendation of reviewer-3 (Chem-Mater-R1)"
   ]
  },
  {
   "cell_type": "code",
   "execution_count": 16,
   "metadata": {},
   "outputs": [],
   "source": [
    "blue = (0, 0.576, 0.902) # 0, 147, 230\n",
    "green = (0.349,0.745,0.306) # 89, 190, 78\n",
    "red = (0.984, 0.262, 0.219) # 251, 67, 56 \n",
    "orange = (0.984, 0.713, 0.305) # 251, 182, 78 \n",
    "purple = (0.839, 0.286, 0.604) # 214, 73, 1541\n",
    "anvil = (0.298, 0.78, 0.77) # 76, 199, 196\n",
    "dark_purple = (0.557, 0, 0.998) # 142, 0, 252\n",
    "pink = (0.95, 0.78, 0.996) # 242, 199, 154\n",
    "gray = (0.463,0.463,0.463) # 118, 118, 118"
   ]
  },
  {
   "cell_type": "code",
   "execution_count": null,
   "metadata": {},
   "outputs": [],
   "source": [
    "matplotlib.use('cairo')\n",
    "# matplotlib.use('Qt5Agg')\n",
    "font = fm.FontProperties(family = 'arial')"
   ]
  },
  {
   "cell_type": "code",
   "execution_count": 17,
   "metadata": {},
   "outputs": [
    {
     "data": {
      "image/png": "[encoded data removed]",
      "text/plain": [
       "<Figure size 500x500 with 1 Axes>"
      ]
     },
     "metadata": {},
     "output_type": "display_data"
    }
   ],
   "source": [
    "# Create a figure and a set of subplots\n",
    "fig, ax = plt.subplots(figsize=(5, 5))\n",
    "\n",
    "# Set the bar width\n",
    "bar_width = 0.125\n",
    "\n",
    "# Set the opacity\n",
    "opacity = 1.0\n",
    "\n",
    "# Set x positions for each group of bars\n",
    "x = np.arange(3)\n",
    "\n",
    "# Plot bars side by side\n",
    "rects1 = ax.bar(x - bar_width, lgbm[0], bar_width, alpha=opacity, color=blue, edgecolor=blue, label='LGBM Train')\n",
    "rects1_ = ax.bar(x, lgbm[1], bar_width, alpha=opacity, color=anvil, edgecolor=anvil, label='LGBM Val')\n",
    "rects__ = ax.bar(x + bar_width, lgbm[2], bar_width, alpha=opacity, color=orange, edgecolor=orange, label='LGBM Test')\n",
    "\n",
    "# Plot hatched bars\n",
    "rects2 = ax.bar(x + 2*bar_width, chem[0], bar_width, alpha=opacity, edgecolor=blue, fill=False, hatch='//', label='Chem Train')\n",
    "rects2_ = ax.bar(x + 3*bar_width, chem[1], bar_width, alpha=opacity, edgecolor=anvil, fill=False, hatch='//', label='Chem Val')\n",
    "rects2__ = ax.bar(x + 4*bar_width, chem[2], bar_width, alpha=opacity, edgecolor=orange, fill=False, hatch='//', label='Chem Test')\n",
    "\n",
    "# Add some text for labels, title and custom x-axis tick labels, etc.\n",
    "ax.set_xlabel('Features')\n",
    "ax.set_ylabel('RMSE')\n",
    "ax.set_yticks([0.0, 0.4, 0.8, 1.2, 1.6])\n",
    "ax.set_yticklabels([0.0, 0.4, 0.8, 1.2, 1.6])\n",
    "splits = ['random', 'strat', 'scaff']\n",
    "ax.set_xticks(x + 1.5*bar_width)\n",
    "ax.set_xticklabels(splits)\n",
    "ax.legend(frameon=False)\n",
    "\n",
    "# Show the plot\n",
    "# plt.tight_layout()\n",
    "plt.savefig('plot_bar_ml_perf_comparison_oxstab_02052025.eps', dpi=300)"
   ]
  },
  {
   "cell_type": "markdown",
   "metadata": {},
   "source": [
    "### Property: Coulombic efficiency"
   ]
  },
  {
   "cell_type": "markdown",
   "metadata": {},
   "source": [
    "#### Check performance for Chemprop models"
   ]
  },
  {
   "cell_type": "code",
   "execution_count": 52,
   "metadata": {},
   "outputs": [],
   "source": [
    "def calc_error(df_true, df_pred):\n",
    "    y_true = df_true['log(1-CE)']\n",
    "    y_pred = df_pred['log(1-CE)']\n",
    "    return np.sqrt(mean_squared_error(y_true, y_pred)), mean_absolute_error(y_true, y_pred), r2_score(y_true, y_pred)"
   ]
  },
  {
   "cell_type": "code",
   "execution_count": 53,
   "metadata": {},
   "outputs": [],
   "source": [
    "path = '../CE/chemprop/'"
   ]
  },
  {
   "cell_type": "code",
   "execution_count": 54,
   "metadata": {},
   "outputs": [],
   "source": [
    "df_true_train_rand = pd.read_csv(path + 'random-split/train_CE_comb_comm.csv') \n",
    "df_true_val_rand = pd.read_csv(path + 'random-split/val_CE_comb_comm.csv')\n",
    "df_true_test_rand = pd.read_csv(path + 'random-split/test_CE_comb_comm.csv')\n",
    "df_true_ood = pd.read_csv(path + 'random-split/ce_ood_final_comb.csv')\n",
    "df_pred_train_rand = pd.read_csv(path + 'random-split/deploy/edb/preds_train_rand_e3_comm_s500.csv')\n",
    "df_pred_val_rand = pd.read_csv(path + 'random-split/deploy/edb/preds_val_rand_e3_comm_s500.csv')\n",
    "df_pred_test_rand = pd.read_csv(path + 'random-split/deploy/edb/preds_test_rand_e3_comm_s500.csv')\n",
    "df_pred_ood_rand = pd.read_csv(path + 'random-split/deploy/final-ood/preds_ood_rand_e3_comm_s500.csv')"
   ]
  },
  {
   "cell_type": "code",
   "execution_count": 55,
   "metadata": {},
   "outputs": [],
   "source": [
    "rmse_train_rand, mae_train_rand, r2_train_rand = calc_error(df_true_train_rand, df_pred_train_rand)\n",
    "rmse_val_rand, mae_val_rand, r2_val_rand = calc_error(df_true_val_rand, df_pred_val_rand)\n",
    "rmse_test_rand, mae_test_rand, r2_test_rand = calc_error(df_true_test_rand, df_pred_test_rand)\n",
    "rmse_ood_rand, mae_ood_rand, r2_ood_rand = calc_error(df_true_ood, df_pred_ood_rand)"
   ]
  },
  {
   "cell_type": "code",
   "execution_count": 22,
   "metadata": {},
   "outputs": [
    {
     "name": "stdout",
     "output_type": "stream",
     "text": [
      "0.4978725886022873\n",
      "0.3865758450408071\n",
      "0.2928100620905363\n"
     ]
    }
   ],
   "source": [
    "print(rmse_test_rand)\n",
    "print(rmse_ood_rand)\n",
    "print(mae_ood_rand)"
   ]
  },
  {
   "cell_type": "code",
   "execution_count": 57,
   "metadata": {},
   "outputs": [],
   "source": [
    "df_true_train_strat2 = pd.read_csv(path + 'stratified-split/strat2_train_comb_comm.csv')\n",
    "df_true_val_strat2 = pd.read_csv(path + 'stratified-split/strat2_val_comb_comm.csv')\n",
    "df_true_test_strat2 = pd.read_csv(path + 'stratified-split/strat2_test_comb_comm.csv')\n",
    "df_pred_train_strat2 = pd.read_csv(path + 'stratified-split/deploy/edb/preds_train_strat2_e3_comm_s500.csv')\n",
    "df_pred_val_strat2 = pd.read_csv(path + 'stratified-split/deploy/edb/preds_val_strat2_e3_comm_s500.csv')\n",
    "df_pred_test_strat2 = pd.read_csv(path + 'stratified-split/deploy/edb/preds_test_strat2_e3_comm_s500.csv')\n",
    "df_pred_ood_strat2 = pd.read_csv(path + 'stratified-split/deploy/final-ood/preds_ood_strat2_e3_comm_s500.csv')"
   ]
  },
  {
   "cell_type": "code",
   "execution_count": 58,
   "metadata": {},
   "outputs": [],
   "source": [
    "rmse_train_strat2, mae_train_strat2, r2_train_strat2 = calc_error(df_true_train_strat2, df_pred_train_strat2)\n",
    "rmse_val_strat2, mae_val_strat2, r2_val_strat2 = calc_error(df_true_val_strat2, df_pred_val_strat2)\n",
    "rmse_test_strat2, mae_test_strat2, r2_test_strat2 = calc_error(df_true_test_strat2, df_pred_test_strat2)\n",
    "rmse_ood_strat2, mae_ood_strat2, r2_ood_strat2 = calc_error(df_true_ood, df_pred_ood_strat2)"
   ]
  },
  {
   "cell_type": "code",
   "execution_count": 25,
   "metadata": {},
   "outputs": [
    {
     "name": "stdout",
     "output_type": "stream",
     "text": [
      "0.45918988796804816\n",
      "0.5072062867856157\n",
      "0.3983166233337724\n",
      "0.2937258372667038\n"
     ]
    }
   ],
   "source": [
    "print(rmse_train_strat2)\n",
    "rmse_val_strat2\n",
    "print(rmse_test_strat2)\n",
    "print(rmse_ood_strat2)\n",
    "print(mae_ood_strat2)"
   ]
  },
  {
   "cell_type": "code",
   "execution_count": 59,
   "metadata": {},
   "outputs": [
    {
     "data": {
      "text/plain": [
       "(0.3820062621391667, 0.5072062867856157, 0.32546917570418343)"
      ]
     },
     "execution_count": 59,
     "metadata": {},
     "output_type": "execute_result"
    }
   ],
   "source": [
    "mae_test_strat2, rmse_test_strat2, r2_test_strat2"
   ]
  },
  {
   "cell_type": "code",
   "execution_count": 26,
   "metadata": {},
   "outputs": [],
   "source": [
    "df_true_train_clus1 = pd.read_csv(path + 'cluster-split-1/train_CE_comb_comm.csv')\n",
    "df_true_val_clus1 = pd.read_csv(path + 'cluster-split-1/val_CE_comb_comm.csv') \n",
    "df_true_test_clus1 = pd.read_csv(path + 'cluster-split-1/test_CE_comb_comm.csv')\n",
    "df_pred_train_clus1 = pd.read_csv(path + 'cluster-split-1/deploy/edb/preds_train_clus1_e3_comm_s500.csv')\n",
    "df_pred_val_clus1 = pd.read_csv(path + 'cluster-split-1/deploy/edb/preds_val_clus1_e3_comm_s500.csv')\n",
    "df_pred_test_clus1 = pd.read_csv(path + 'cluster-split-1/deploy/edb/preds_test_clus1_e3_comm_s500.csv')"
   ]
  },
  {
   "cell_type": "code",
   "execution_count": 27,
   "metadata": {},
   "outputs": [],
   "source": [
    "rmse_train_clus1, mae_train_clus1, r2_train_clus1 = calc_error(df_true_train_clus1, df_pred_train_clus1)\n",
    "rmse_val_clus1, mae_val_clus1, r2_val_clus1 = calc_error(df_true_val_clus1, df_pred_val_clus1)\n",
    "rmse_test_clus1, mae_test_clus1, r2_test_clus1 = calc_error(df_true_test_clus1, df_pred_test_clus1)"
   ]
  },
  {
   "cell_type": "code",
   "execution_count": 28,
   "metadata": {},
   "outputs": [],
   "source": [
    "df_true_train_clus2 = pd.read_csv(path + 'cluster-split-2/train_CE_comb_comm.csv')\n",
    "df_true_val_clus2 = pd.read_csv(path + 'cluster-split-2/val_CE_comb_comm.csv')\n",
    "df_true_test_clus2 = pd.read_csv(path + 'cluster-split-2/test_CE_comb_comm.csv')    \n",
    "df_pred_train_clus2 = pd.read_csv(path + 'cluster-split-2/deploy/edb/preds_train_clus2_e3_comm_s500.csv')\n",
    "df_pred_val_clus2 = pd.read_csv(path + 'cluster-split-2/deploy/edb/preds_val_clus2_e3_comm_s500.csv')\n",
    "df_pred_test_clus2 = pd.read_csv(path + 'cluster-split-2/deploy/edb/preds_test_clus2_e3_comm_s500.csv')"
   ]
  },
  {
   "cell_type": "code",
   "execution_count": 29,
   "metadata": {},
   "outputs": [],
   "source": [
    "rmse_train_clus2, mae_train_clus2, r2_train_clus2 = calc_error(df_true_train_clus2, df_pred_train_clus2)\n",
    "rmse_val_clus2, mae_val_clus2, r2_val_clus2 = calc_error(df_true_val_clus2, df_pred_val_clus2)\n",
    "rmse_test_clus2, mae_test_clus2, r2_test_clus2 = calc_error(df_true_test_clus2, df_pred_test_clus2)"
   ]
  },
  {
   "cell_type": "code",
   "execution_count": 30,
   "metadata": {},
   "outputs": [],
   "source": [
    "## RMSE list -- final plsr list on 02-28-24\n",
    "plsr = [[0.287,0.302,0.246,0.309], [0.513,0.384,0.707,0.823], [0.417,0.411,0.688,1.572]] ## [random, strat, clus-I, clus-II] & [train,val,test]\n",
    "chem = [[rmse_train_rand, rmse_train_strat2, rmse_train_clus1, rmse_train_clus2], [rmse_val_rand, rmse_val_strat2, rmse_val_clus1, rmse_val_clus2], [rmse_test_rand, rmse_test_strat2, rmse_test_clus1, rmse_test_clus2]] ## [random, strat, clus-I, clus-II] & [train,val,test]"
   ]
  },
  {
   "cell_type": "code",
   "execution_count": 31,
   "metadata": {},
   "outputs": [
    {
     "data": {
      "text/plain": [
       "array([[0.47300901, 0.45918989, 0.53089889, 0.41393584],\n",
       "       [0.46555678, 0.46175239, 0.47451586, 0.66451513],\n",
       "       [0.49787259, 0.50720629, 0.43851444, 0.45334121]])"
      ]
     },
     "execution_count": 31,
     "metadata": {},
     "output_type": "execute_result"
    }
   ],
   "source": [
    "chem = np.array(chem)\n",
    "plsr = np.array(plsr)\n",
    "chem"
   ]
  },
  {
   "cell_type": "markdown",
   "metadata": {},
   "source": [
    "#### Side-by-side bar plot: on recommendation of reviewer-3 (Chem-Mater-R1)"
   ]
  },
  {
   "cell_type": "code",
   "execution_count": 32,
   "metadata": {},
   "outputs": [],
   "source": [
    "blue = (0, 0.576, 0.902) # 0, 147, 230\n",
    "green = (0.349,0.745,0.306) # 89, 190, 78\n",
    "red = (0.984, 0.262, 0.219) # 251, 67, 56 \n",
    "orange = (0.984, 0.713, 0.305) # 251, 182, 78 \n",
    "purple = (0.839, 0.286, 0.604) # 214, 73, 1541\n",
    "anvil = (0.298, 0.78, 0.77) # 76, 199, 196\n",
    "dark_purple = (0.557, 0, 0.998) # 142, 0, 252\n",
    "pink = (0.95, 0.78, 0.996) # 242, 199, 154\n",
    "gray = (0.463,0.463,0.463) # 118, 118, 118"
   ]
  },
  {
   "cell_type": "code",
   "execution_count": 23,
   "metadata": {},
   "outputs": [],
   "source": [
    "matplotlib.use('cairo')\n",
    "# matplotlib.use('Qt5Agg')\n",
    "font = fm.FontProperties(family = 'arial')"
   ]
  },
  {
   "cell_type": "code",
   "execution_count": 33,
   "metadata": {},
   "outputs": [
    {
     "data": {
      "text/plain": [
       "<matplotlib.legend.Legend at 0x31b4fa070>"
      ]
     },
     "execution_count": 33,
     "metadata": {},
     "output_type": "execute_result"
    },
    {
     "data": {
      "image/png": "[encoded data removed]",
      "text/plain": [
       "<Figure size 500x500 with 1 Axes>"
      ]
     },
     "metadata": {},
     "output_type": "display_data"
    }
   ],
   "source": [
    "# Create a figure and a set of subplots\n",
    "fig, ax = plt.subplots(figsize=(5, 5))\n",
    "\n",
    "# Set the bar width\n",
    "bar_width = 0.13\n",
    "\n",
    "# Set the opacity\n",
    "opacity = 1.0\n",
    "\n",
    "# Set x positions for each group of bars\n",
    "x = np.arange(4)\n",
    "\n",
    "# Plot bars side by side\n",
    "rects1 = ax.bar(x - bar_width, plsr[0], bar_width, alpha=opacity, color=blue, edgecolor=blue, label='LGBM Train')\n",
    "rects1_ = ax.bar(x, plsr[1], bar_width, alpha=opacity, color=anvil, edgecolor=anvil, label='LGBM Val')\n",
    "rects__ = ax.bar(x + bar_width, plsr[2], bar_width, alpha=opacity, color=orange, edgecolor=orange, label='LGBM Test')\n",
    "\n",
    "# Plot hatched bars\n",
    "rects2 = ax.bar(x + 2*bar_width, chem[0], bar_width, alpha=opacity, edgecolor=blue, fill=False, hatch='//', label='Chem Train')\n",
    "rects2_ = ax.bar(x + 3*bar_width, chem[1], bar_width, alpha=opacity, edgecolor=anvil, fill=False, hatch='//', label='Chem Val')\n",
    "rects2__ = ax.bar(x + 4*bar_width, chem[2], bar_width, alpha=opacity, edgecolor=orange, fill=False, hatch='//', label='Chem Test')\n",
    "\n",
    "# Add some text for labels, title and custom x-axis tick labels, etc.\n",
    "ax.set_xlabel('Features')\n",
    "ax.set_ylabel('RMSE')\n",
    "ax.set_yticks([0.0, 0.4, 0.8, 1.2, 1.6])\n",
    "ax.set_yticklabels([0.0, 0.4, 0.8, 1.2, 1.6])\n",
    "ax.set_ylim(0, 1.6)\n",
    "splits = ['random', 'strat', 'clus-I', 'clus-II']\n",
    "ax.set_xticks(x + 1.5*bar_width)\n",
    "ax.set_xticklabels(splits)\n",
    "ax.legend(frameon=False)\n",
    "\n",
    "# Show the plot\n",
    "# plt.tight_layout()\n",
    "# plt.savefig('plot_bar_ml_perf_comparison_ce_02052025.eps', dpi=300)"
   ]
  },
  {
   "cell_type": "code",
   "execution_count": null,
   "metadata": {},
   "outputs": [],
   "source": []
  }
 ],
 "metadata": {
  "kernelspec": {
   "display_name": "mdanalysis",
   "language": "python",
   "name": "python3"
  },
  "language_info": {
   "codemirror_mode": {
    "name": "ipython",
    "version": 3
   },
   "file_extension": ".py",
   "mimetype": "text/x-python",
   "name": "python",
   "nbconvert_exporter": "python",
   "pygments_lexer": "ipython3",
   "version": "3.8.17"
  },
  "orig_nbformat": 4
 },
 "nbformat": 4,
 "nbformat_minor": 2
}
