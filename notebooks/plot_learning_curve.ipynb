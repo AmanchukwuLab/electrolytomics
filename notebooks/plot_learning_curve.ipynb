{
 "cells": [
  {
   "attachments": {},
   "cell_type": "markdown",
   "metadata": {},
   "source": [
    "## Notebook for plotting learning curve for IE dataset (for Chemprop)"
   ]
  },
  {
   "cell_type": "markdown",
   "metadata": {},
   "source": [
    "### Random splitting"
   ]
  },
  {
   "attachments": {},
   "cell_type": "markdown",
   "metadata": {},
   "source": [
    "**Created on 18th March, 2022**"
   ]
  },
  {
   "cell_type": "code",
   "execution_count": 1,
   "metadata": {},
   "outputs": [],
   "source": [
    "import warnings\n",
    "warnings.filterwarnings('ignore')\n",
    "import requests\n",
    "#from selenium import webdriver\n",
    "import os, sys\n",
    "import json\n",
    "import csv\n",
    "import re\n",
    "import pandas as pd\n",
    "import numpy as np\n",
    "import matplotlib.pyplot as plt\n",
    "import math\n",
    "from rdkit import Chem\n",
    "import rdkit.Chem.rdMolDescriptors as MolDescriptors\n",
    "import rdkit.Chem.Descriptors as Descriptors\n",
    "from sklearn.model_selection import train_test_split\n",
    "from sklearn.metrics import mean_squared_error, r2_score, mean_absolute_error"
   ]
  },
  {
   "cell_type": "code",
   "execution_count": 2,
   "metadata": {},
   "outputs": [
    {
     "name": "stdout",
     "output_type": "stream",
     "text": [
      "/Users/riteshkumar/Library/CloudStorage/Box-Box/Research-postdoc/liquid-electrolyte-ML/redox-stability/10-16-22/random-split/learning-curve\n",
      "total 112\n",
      "-rw-r--r--@ 1 riteshkumar  staff  917505 Mar 15 05:08 final_MP_red4.csv\n",
      "-rw-------@ 1 riteshkumar  staff   14995 Mar 15 05:31 split_dataset.ipynb\n",
      "drwxr-xr-x  7 riteshkumar  staff     224 Mar 18 12:31 r-0.3\n",
      "drwxr-xr-x  7 riteshkumar  staff     224 Mar 18 12:32 r-0.4\n",
      "drwxr-xr-x  7 riteshkumar  staff     224 Mar 18 12:37 r-0.5\n",
      "drwxr-xr-x  7 riteshkumar  staff     224 Mar 18 12:38 r-0.6\n",
      "drwxr-xr-x  7 riteshkumar  staff     224 Mar 18 12:38 r-0.7\n",
      "drwxr-xr-x  7 riteshkumar  staff     224 Mar 18 12:38 r-0.8\n",
      "drwxr-xr-x  7 riteshkumar  staff     224 Mar 18 18:57 r-0.2\n",
      "-rw-r--r--  1 riteshkumar  staff      18 Mar 18 19:24 tt.txt\n",
      "-rw-r--r--  1 riteshkumar  staff      63 Mar 18 19:30 test_r2.txt\n",
      "-rw-r--r--@ 1 riteshkumar  staff   24887 Mar 18 22:42 learning_curve.eps\n",
      "-rw-------@ 1 riteshkumar  staff   53415 May 23 06:07 plot_learning_curve.ipynb\n"
     ]
    }
   ],
   "source": [
    "%%bash\n",
    "pwd\n",
    "ls -ltr"
   ]
  },
  {
   "cell_type": "code",
   "execution_count": 97,
   "metadata": {},
   "outputs": [],
   "source": [
    "%%bash\n",
    "open ."
   ]
  },
  {
   "cell_type": "code",
   "execution_count": 3,
   "metadata": {},
   "outputs": [
    {
     "data": {
      "text/html": [
       "<div>\n",
       "<style scoped>\n",
       "    .dataframe tbody tr th:only-of-type {\n",
       "        vertical-align: middle;\n",
       "    }\n",
       "\n",
       "    .dataframe tbody tr th {\n",
       "        vertical-align: top;\n",
       "    }\n",
       "\n",
       "    .dataframe thead th {\n",
       "        text-align: right;\n",
       "    }\n",
       "</style>\n",
       "<table border=\"1\" class=\"dataframe\">\n",
       "  <thead>\n",
       "    <tr style=\"text-align: right;\">\n",
       "      <th></th>\n",
       "      <th>smiles</th>\n",
       "      <th>IE</th>\n",
       "      <th>EA</th>\n",
       "    </tr>\n",
       "  </thead>\n",
       "  <tbody>\n",
       "    <tr>\n",
       "      <th>0</th>\n",
       "      <td>C(C#CC(C)C)(C)C</td>\n",
       "      <td>5.481535</td>\n",
       "      <td>-0.771096</td>\n",
       "    </tr>\n",
       "    <tr>\n",
       "      <th>1</th>\n",
       "      <td>C(=O)=O</td>\n",
       "      <td>9.433272</td>\n",
       "      <td>0.941193</td>\n",
       "    </tr>\n",
       "    <tr>\n",
       "      <th>2</th>\n",
       "      <td>O</td>\n",
       "      <td>7.902121</td>\n",
       "      <td>-1.343401</td>\n",
       "    </tr>\n",
       "    <tr>\n",
       "      <th>3</th>\n",
       "      <td>C(=C\\C)/C(C)C</td>\n",
       "      <td>5.085723</td>\n",
       "      <td>-1.005246</td>\n",
       "    </tr>\n",
       "    <tr>\n",
       "      <th>4</th>\n",
       "      <td>c1(c(ccc(c1)C)C)C</td>\n",
       "      <td>4.733493</td>\n",
       "      <td>-0.843508</td>\n",
       "    </tr>\n",
       "    <tr>\n",
       "      <th>...</th>\n",
       "      <td>...</td>\n",
       "      <td>...</td>\n",
       "      <td>...</td>\n",
       "    </tr>\n",
       "    <tr>\n",
       "      <th>18128</th>\n",
       "      <td>c1cc(c2c(c1)[nH]sn2N(=O)=O)C(=O)O</td>\n",
       "      <td>3.220508</td>\n",
       "      <td>3.856206</td>\n",
       "    </tr>\n",
       "    <tr>\n",
       "      <th>18129</th>\n",
       "      <td>CC(=O)c1ccc2c(c1C#N)[nH]s[nH]2</td>\n",
       "      <td>3.620069</td>\n",
       "      <td>1.502602</td>\n",
       "    </tr>\n",
       "    <tr>\n",
       "      <th>18130</th>\n",
       "      <td>CCn1c2ccc(cc2[nH]s1)Cl</td>\n",
       "      <td>3.308856</td>\n",
       "      <td>2.027702</td>\n",
       "    </tr>\n",
       "    <tr>\n",
       "      <th>18131</th>\n",
       "      <td>CCc1ccc2c(c1O)[nH]s[nH]2</td>\n",
       "      <td>3.476727</td>\n",
       "      <td>2.415027</td>\n",
       "    </tr>\n",
       "    <tr>\n",
       "      <th>18132</th>\n",
       "      <td>COc1ccc2c(c1)[nH]sn2O</td>\n",
       "      <td>3.846236</td>\n",
       "      <td>1.725829</td>\n",
       "    </tr>\n",
       "  </tbody>\n",
       "</table>\n",
       "<p>18133 rows × 3 columns</p>\n",
       "</div>"
      ],
      "text/plain": [
       "                                  smiles        IE        EA\n",
       "0                        C(C#CC(C)C)(C)C  5.481535 -0.771096\n",
       "1                                C(=O)=O  9.433272  0.941193\n",
       "2                                      O  7.902121 -1.343401\n",
       "3                          C(=C\\C)/C(C)C  5.085723 -1.005246\n",
       "4                      c1(c(ccc(c1)C)C)C  4.733493 -0.843508\n",
       "...                                  ...       ...       ...\n",
       "18128  c1cc(c2c(c1)[nH]sn2N(=O)=O)C(=O)O  3.220508  3.856206\n",
       "18129     CC(=O)c1ccc2c(c1C#N)[nH]s[nH]2  3.620069  1.502602\n",
       "18130             CCn1c2ccc(cc2[nH]s1)Cl  3.308856  2.027702\n",
       "18131           CCc1ccc2c(c1O)[nH]s[nH]2  3.476727  2.415027\n",
       "18132              COc1ccc2c(c1)[nH]sn2O  3.846236  1.725829\n",
       "\n",
       "[18133 rows x 3 columns]"
      ]
     },
     "execution_count": 3,
     "metadata": {},
     "output_type": "execute_result"
    }
   ],
   "source": [
    "df = pd.read_csv('final_MP_red4.csv')\n",
    "df"
   ]
  },
  {
   "cell_type": "code",
   "execution_count": 4,
   "metadata": {},
   "outputs": [],
   "source": [
    "%%bash\n",
    "r2_1=`grep \"Overall test IE r2\" r-0.2/quiet.log | awk '{printf\"%6.4f\\n\",$6}'`"
   ]
  },
  {
   "cell_type": "code",
   "execution_count": 24,
   "metadata": {},
   "outputs": [
    {
     "name": "stdout",
     "output_type": "stream",
     "text": [
      "\tOverall test IE r2 = 0.963656 +/- 0.000726\n"
     ]
    }
   ],
   "source": [
    "# import subprocess\n",
    "# process = subprocess.run(['grep', 'Overall test IE r2', 'r-0.2/quiet.log'])\n",
    "# # output, error = process.communicate()"
   ]
  },
  {
   "cell_type": "code",
   "execution_count": 5,
   "metadata": {},
   "outputs": [
    {
     "name": "stdout",
     "output_type": "stream",
     "text": [
      "grep 'Overall test IE r2' r-0.2/quiet.log | awk '{print $6}' >> test_r2.txt\n",
      "grep 'Overall test IE r2' r-0.3/quiet.log | awk '{print $6}' >> test_r2.txt\n",
      "grep 'Overall test IE r2' r-0.4/quiet.log | awk '{print $6}' >> test_r2.txt\n",
      "grep 'Overall test IE r2' r-0.5/quiet.log | awk '{print $6}' >> test_r2.txt\n",
      "grep 'Overall test IE r2' r-0.6/quiet.log | awk '{print $6}' >> test_r2.txt\n",
      "grep 'Overall test IE r2' r-0.7/quiet.log | awk '{print $6}' >> test_r2.txt\n",
      "grep 'Overall test IE r2' r-0.8/quiet.log | awk '{print $6}' >> test_r2.txt\n"
     ]
    }
   ],
   "source": [
    "for i in range(2,9):\n",
    "    j = i/10\n",
    "    # print(j)\n",
    "    command = \"grep 'Overall test IE r2' r-{}/quiet.log | awk '{{print $6}}' >> test_r2.txt\".format(j)\n",
    "    print(command)\n",
    "    # command = \"grep 'Overall test IE r2' r-{}/quiet.log | awk '{print $6}' >> test_r2.txt\".format(j)\n",
    "    # command = \"grep 'Overall test IE r2' r-{}/quiet.log >> test_r2.txt\".format(j)\n",
    "    # command2 = \"grep 'Overall test IE r2' r-0.3/quiet.log | awk '{print $6\\n}' >> tt.txt\"\n",
    "    os.system(command)"
   ]
  },
  {
   "cell_type": "code",
   "execution_count": 6,
   "metadata": {},
   "outputs": [
    {
     "name": "stdout",
     "output_type": "stream",
     "text": [
      "0.963656\n",
      "0.958191\n",
      "0.953733\n",
      "0.951909\n",
      "0.945741\n",
      "0.933862\n",
      "0.912736\n",
      "0.963656\n",
      "0.958191\n",
      "0.953733\n",
      "0.951909\n",
      "0.945741\n",
      "0.933862\n",
      "0.912736\n"
     ]
    }
   ],
   "source": [
    "%%bash\n",
    "cat test_r2.txt"
   ]
  },
  {
   "cell_type": "code",
   "execution_count": 7,
   "metadata": {},
   "outputs": [],
   "source": [
    "def get_r2():\n",
    "    r2 = []\n",
    "    with open('test_r2.txt', 'r') as f:\n",
    "        for line in f:\n",
    "            r2.append(float(line))\n",
    "    return r2\n",
    "\n",
    "test_r2 = get_r2()"
   ]
  },
  {
   "cell_type": "code",
   "execution_count": 8,
   "metadata": {},
   "outputs": [
    {
     "name": "stdout",
     "output_type": "stream",
     "text": [
      "0.9943041479705822\n",
      "0.9938956971507328\n",
      "0.9938282401783728\n",
      "0.992270455701314\n",
      "0.9937385896864251\n",
      "0.993217361957619\n",
      "0.9913675121222203\n"
     ]
    }
   ],
   "source": [
    "def calc_train_r2(path):\n",
    "    pred_file = path + '/deploy/preds_train.csv'\n",
    "    true_file = path + '/train_random.csv'\n",
    "    df_train = pd.read_csv(true_file)\n",
    "    df_pred_train = pd.read_csv(pred_file)\n",
    "    y_train = df_train['IE']\n",
    "    y_pred_train = df_pred_train['IE']\n",
    "    r2_train = r2_score(y_train, y_pred_train)\n",
    "    return r2_train\n",
    "\n",
    "train_r2 = []\n",
    "for i in range(2,9):\n",
    "    j = i/10\n",
    "    path = 'r-{}'.format(j)\n",
    "    r2_train = calc_train_r2(path)\n",
    "    print(r2_train)\n",
    "    train_r2.append(r2_train)"
   ]
  },
  {
   "cell_type": "code",
   "execution_count": 9,
   "metadata": {},
   "outputs": [
    {
     "data": {
      "text/plain": [
       "[0.9939976677637509,\n",
       " 0.9943041479705822,\n",
       " 0.9938956971507328,\n",
       " 0.9938282401783728,\n",
       " 0.992270455701314,\n",
       " 0.9937385896864251,\n",
       " 0.993217361957619,\n",
       " 0.9913675121222203]"
      ]
     },
     "execution_count": 9,
     "metadata": {},
     "output_type": "execute_result"
    }
   ],
   "source": [
    "# train_r2.reverse() ## reversing the list from 0.8 to 0.2\n",
    "# test_r2.reverse() ## reversing the list from 0.8 to 0.2\n",
    "# train_r2.append(0.9939976677637509)  ## appending for test_ratio = 0.1\n",
    "# test_r2.append(0.9679225101973425) ## appending for test_ratio = 0.1\n",
    "train_r2 = [0.9939976677637509] + train_r2 ## appending for test_ratio = 0.1\n",
    "test_r2 = [0.9679225101973425] + test_r2 ## appending for test_ratio = 0.1\n",
    "train_r2"
   ]
  },
  {
   "cell_type": "code",
   "execution_count": 22,
   "metadata": {},
   "outputs": [
    {
     "data": {
      "image/png": "[encoded data removed]",
      "text/plain": [
       "<Figure size 500x500 with 2 Axes>"
      ]
     },
     "metadata": {},
     "output_type": "display_data"
    }
   ],
   "source": [
    "test_ratios = [0.1, 0.2, 0.3, 0.4, 0.5, 0.6, 0.7, 0.8]\n",
    "train_ratios = [1 - (0.1+x) for x in test_ratios]\n",
    "plt.rcParams['font.family'] = 'Arial'\n",
    "fig, ax = plt.subplots(figsize=(5, 5))\n",
    "ax.plot(test_ratios, train_r2, label='train', marker='o', color=(0, 0.576, 0.902), linewidth=2, markersize=10, markeredgecolor=(0, 0.576, 0.902), markeredgewidth=2)\n",
    "ax.set_ylim(0.990, 0.995)\n",
    "ax.set_yticks([0.990, 0.992, 0.994])\n",
    "ax.set_ylabel('Train R$^2$')\n",
    "ax.set_xlabel('Train ratio')\n",
    "ax2 = ax.twinx()\n",
    "# ax2.plot(test_ratios, test_r2, label='test', marker='o', color=(0, 0.576, 0.902), linewidth=2, markersize=10, markerfacecolor='none')\n",
    "# ax2.plot(test_ratios, test_r2, label='test', marker='o', color='w', linewidth=2, markersize=10, markeredgecolor=(0, 0.576, 0.902), markeredgewidth=2) ## in terms of test_ratio\n",
    "ax2.plot(train_ratios, test_r2, label='test', marker='o', color='w', linewidth=2, markersize=10, markeredgecolor=(0, 0.576, 0.902), markeredgewidth=2) ## in terms of train_ratio; added on 23rd May, 2023\n",
    "ax2.set_ylabel('Test R$^2$')\n",
    "ax2.set_yticks([0.910, 0.930, 0.950, 0.970])\n",
    "# ax.set_aspect(100)\n",
    "# ax2.set_aspect(7.5)\n",
    "plt.savefig('learning_curve_052323.eps', dpi=300)"
   ]
  },
  {
   "cell_type": "code",
   "execution_count": null,
   "metadata": {},
   "outputs": [],
   "source": []
  }
 ],
 "metadata": {
  "kernelspec": {
   "display_name": "Python 3.9.10 ('base')",
   "language": "python",
   "name": "python3"
  },
  "language_info": {
   "codemirror_mode": {
    "name": "ipython",
    "version": 3
   },
   "file_extension": ".py",
   "mimetype": "text/x-python",
   "name": "python",
   "nbconvert_exporter": "python",
   "pygments_lexer": "ipython3",
   "version": "3.9.15"
  },
  "orig_nbformat": 4,
  "vscode": {
   "interpreter": {
    "hash": "ed0215679a8fe8164760417c5bd2f5671f5408467d9f8c225d440c09e574d4b0"
   }
  }
 },
 "nbformat": 4,
 "nbformat_minor": 2
}
